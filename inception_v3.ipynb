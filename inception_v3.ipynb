{
 "cells": [
  {
   "cell_type": "code",
   "execution_count": null,
   "metadata": {},
   "outputs": [
    {
     "ename": "",
     "evalue": "",
     "output_type": "error",
     "traceback": [
      "\u001b[1;31mRunning cells with 'Python 3.9.0 64-bit' requires ipykernel package.\n",
      "\u001b[1;31mRun the following command to install 'ipykernel' into the Python environment. \n",
      "\u001b[1;31mCommand: 'c:/Users/ABEL/AppData/Local/Programs/Python/Python39/python.exe -m pip install ipykernel -U --user --force-reinstall'"
     ]
    }
   ],
   "source": [
    "from keras.applications.inception_v3 import InceptionV3\n",
    "from keras.preprocessing.image import img_to_array\n",
    "from keras.preprocessing.image import load_img\n",
    "from keras.applications.inception_v3 import preprocess_input\n",
    "from keras.applications.inception_v3 import decode_predictions\n",
    "from os import listdir\n",
    "from os.path import isfile, join\n",
    "# load the model\n",
    "model = inception_v3()"
   ]
  },
  {
   "cell_type": "code",
   "execution_count": null,
   "metadata": {},
   "outputs": [],
   "source": [
    "frames = [join('./frames', f) for f in listdir('./frames') if isfile(join('./frames', f))]\n"
   ]
  },
  {
   "cell_type": "code",
   "execution_count": null,
   "metadata": {},
   "outputs": [],
   "source": [
    "for frame in frames:\n",
    "    image = load_img(frame, target_size=(224, 224)) # load an image from file\n",
    "    image = img_to_array(image) # convert the image pixels to a numpy array\n",
    "    image = img_to_array(image)\n",
    "    image = image.reshape((1, image.shape[0], image.shape[1], image.shape[2]))\n",
    "    image = preprocess_input(image) # prepare the image for the VGG model\n",
    "    yhat = model.predict(image) # predict the probability across all output classes\n",
    "    label = decode_predictions(yhat)# convert the probabilities to class labels\n",
    "    label = label[0][0] # retrieve the most likely result, e.g. highest probability\n",
    "    print('%s (%.2f%%)' % (label[1], label[2]*100)) # print the classification"
   ]
  }
 ],
 "metadata": {
  "kernelspec": {
   "display_name": "Python 3.9.0 64-bit",
   "language": "python",
   "name": "python3"
  },
  "language_info": {
   "name": "python",
   "version": "3.9.0"
  },
  "orig_nbformat": 4,
  "vscode": {
   "interpreter": {
    "hash": "24e23c65a9a2e41661180f3748576c3f477d056edc0342043346a944555fae30"
   }
  }
 },
 "nbformat": 4,
 "nbformat_minor": 2
}
